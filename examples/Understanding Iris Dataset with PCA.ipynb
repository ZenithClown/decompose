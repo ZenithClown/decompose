{
 "cells": [
  {
   "cell_type": "markdown",
   "metadata": {},
   "source": [
    "<h1 align = \"center\">Principal Component Analysis (PCA)</h1>\n",
    "\n",
    "---\n",
    "\n",
    "<p align = \"justify\" style = \"color:#493985\"><b>Principal Component Analysis (PCA)</b> fundamentally tries to minimise the dimensions/features of a data set (consists of say <code>d</code>-dimensions) to a lower dimension (which is usually <i>two</i>). In other words, it tries to project the data into a new \"subspace\" that can distinguish the patterns between the dimensions which are relatable to each other. Mathematically, PCA tries to find a new set of axis which has the maximum \"variance\" of the data <a href = \"https://sebastianraschka.com/Articles/2014_pca_step_by_step.html\">[1]</a>.</p>\n",
    "\n",
    "**Objective:** The `decompose` library serves as a basic library which have implemented the `PCA()` algorithm similar to `sklearn.decompose.PCA()`, but only minimal parameters are defined. Serves as the backbone for the paper titled _\"An Unsupervised Clustering Methodology in Determining the Functional Age of a Power Transformer using Return Voltage Measurement\"_ by Debmalya Pramanik and Arijit Baral. The example serves the following to the viewers:\n",
    "1. Explains the mathematical foundation of PCA,\n",
    "2. Gives as overview of how to use the `decompose.PCA()` function, and\n",
    "3. Predict the `iris` data set using this library, and validate with `sklearn.decompose.PCA`."
   ]
  },
  {
   "cell_type": "code",
   "execution_count": 1,
   "metadata": {
    "ExecuteTime": {
     "end_time": "2021-05-13T17:54:29.896310Z",
     "start_time": "2021-05-13T17:54:29.153783Z"
    }
   },
   "outputs": [],
   "source": [
    "import numpy as np\n",
    "import pandas as pd\n",
    "import seaborn as sns\n",
    "import matplotlib.pyplot as plt\n",
    "\n",
    "%precision 3\n",
    "%matplotlib inline\n",
    "sns.set_style('whitegrid');\n",
    "plt.style.use('default-style');\n",
    "\n",
    "np.set_printoptions(\n",
    "        precision = 3,  # floating point numbers are limited to three decimal places (while printing)\n",
    "        threshold = 15, # if a np.ndarray is more than (15, -1) times long - then show summary\n",
    "    )"
   ]
  },
  {
   "cell_type": "markdown",
   "metadata": {},
   "source": [
    "## Refresher Course\n",
    "\n",
    "Before diving into the mathematics of PCA and actual implementations, let's revise some of the basic, which are required for implementation of PCA. Note - some useful links and external guidance links are also present in the **credits** section!\n",
    "\n",
    "### Eigen Values and Eigen Vectors\n",
    "\n",
    "For a matrix $A$, the **Eigen Vector** ($\\bar{v}$) is defined as a vector that changes at most by a scalar multiplier when a linear transformaion is applied on it. Mathematically, it can be written as:\n",
    "\n",
    "$$ \\label{eig}\n",
    "    A \\bar{v} = \\lambda \\bar{v} \\\\\n",
    "$$\n",
    "\n",
    "where, $\\lambda$ is the **Eigen Value** of $A$, and $I$ is an identity matrix. To solve for eigen values and eigen vectors, we can rewrite eqn. (\\ref{eig}) as:\n",
    "\n",
    "$$ \\label{eig-char}\n",
    "    (A - \\lambda I) \\bar{v} = \\bar{0}\n",
    "$$\n",
    "\n",
    "Since, $\\bar{v} \\neq 0$, hence from eqn (\\ref{eig-char}) we can not that $det(A - \\lambda I) = 0$.\n",
    "\n",
    "### Covariance\n",
    "\n",
    "It is defined as the measure of joint variablity, and is given as:\n",
    "\n",
    "$$\n",
    "    cov(x, y) = \\frac{\\sum(x_i - \\bar{x})(y_i - \\bar{y})}{N - 1}\n",
    "$$\n",
    "\n",
    "where, $\\bar{x}$ and $\\bar{y}$ is the mean of variable $x$ and $y$ respectively; and $N$ is the number of data points."
   ]
  },
  {
   "cell_type": "code",
   "execution_count": 2,
   "metadata": {
    "ExecuteTime": {
     "end_time": "2021-05-13T17:54:29.957228Z",
     "start_time": "2021-05-13T17:54:29.897312Z"
    }
   },
   "outputs": [],
   "source": [
    "from sklearn.datasets import load_iris"
   ]
  },
  {
   "cell_type": "markdown",
   "metadata": {},
   "source": [
    "## Iris Dataset\n",
    "\n",
    "One of the most basic and widely known dataset that has been used in many literature and articles. The dataset consists of **3**-type classes **`{setosa, versicolour, virginica}`**, of which one is linearly seperable while the other two are not [[2]](https://archive.ics.uci.edu/ml/datasets/iris). This dataset is used as an example to understand and implement the PCA algorithm that is developed in this module."
   ]
  },
  {
   "cell_type": "code",
   "execution_count": 3,
   "metadata": {
    "ExecuteTime": {
     "end_time": "2021-05-13T17:54:29.973179Z",
     "start_time": "2021-05-13T17:54:29.961217Z"
    }
   },
   "outputs": [],
   "source": [
    "iris = load_iris()"
   ]
  },
  {
   "cell_type": "markdown",
   "metadata": {},
   "source": [
    "We define **`X`** as the input variable, and **`y`** as the target. For any machine learning algorithm, especially PCA, it is very important to normalize the data. For this, I use the `MinMaxScaler`, which is mathematically defined as follows [[3]](https://scikit-learn.org/stable/modules/generated/sklearn.preprocessing.MinMaxScaler.html):\n",
    "\n",
    "$$\n",
    "    X_{std} = \\frac{x - x_{min}}{x_{max} - x_{min}} \\\\\n",
    "    \\\\\n",
    "    X_{scaled} = X_{std} * (max - min) + min\n",
    "$$"
   ]
  },
  {
   "cell_type": "code",
   "execution_count": 4,
   "metadata": {
    "ExecuteTime": {
     "end_time": "2021-05-13T17:54:29.988196Z",
     "start_time": "2021-05-13T17:54:29.974189Z"
    }
   },
   "outputs": [],
   "source": [
    "from sklearn.preprocessing import MinMaxScaler"
   ]
  },
  {
   "cell_type": "code",
   "execution_count": 5,
   "metadata": {
    "ExecuteTime": {
     "end_time": "2021-05-13T17:54:30.003156Z",
     "start_time": "2021-05-13T17:54:29.989193Z"
    }
   },
   "outputs": [],
   "source": [
    "X, y = iris.data, iris.target\n",
    "X = MinMaxScaler().fit_transform(X)"
   ]
  },
  {
   "cell_type": "code",
   "execution_count": 7,
   "metadata": {
    "ExecuteTime": {
     "end_time": "2021-05-13T17:08:17.298984Z",
     "start_time": "2021-05-13T17:08:17.287507Z"
    },
    "deletable": false,
    "editable": false,
    "run_control": {
     "frozen": true
    }
   },
   "outputs": [
    {
     "data": {
      "text/plain": [
       "((150, 4), (150,))"
      ]
     },
     "execution_count": 7,
     "metadata": {},
     "output_type": "execute_result"
    }
   ],
   "source": [
    "X.shape, y.shape"
   ]
  },
  {
   "cell_type": "markdown",
   "metadata": {},
   "source": [
    "## Principal Component Analysis\n",
    "\n",
    "As discussed, the idea behind PCA is to minimize the dimensions of the data. In this section, first let's understand how to acheive PCA by means of a flowchart. Given the mathematical foundation and the minimalistic approcach in desgining a PCA algorithm, the same is developed using **`numpy`** and the components are calculated.\n",
    "\n",
    "![PCA Flowchart](pca-flowchart.png)"
   ]
  },
  {
   "cell_type": "code",
   "execution_count": 6,
   "metadata": {
    "ExecuteTime": {
     "end_time": "2021-05-13T17:54:30.019055Z",
     "start_time": "2021-05-13T17:54:30.004154Z"
    }
   },
   "outputs": [],
   "source": [
    "import decompose"
   ]
  },
  {
   "cell_type": "code",
   "execution_count": 7,
   "metadata": {
    "ExecuteTime": {
     "end_time": "2021-05-13T17:54:30.035009Z",
     "start_time": "2021-05-13T17:54:30.020045Z"
    }
   },
   "outputs": [
    {
     "name": "stdout",
     "output_type": "stream",
     "text": [
      "(150, 4) (4, 4)\n"
     ]
    }
   ],
   "source": [
    "dPCA = decompose.PCA()\n",
    "principalComponents = dPCA.fit_transform(X)"
   ]
  },
  {
   "cell_type": "markdown",
   "metadata": {},
   "source": [
    "### Scree Plot\n",
    "\n",
    "Generally, using PCA (or infact any other dimensional reduction algorithm) the data is reduced to 2-dimensions. However, to better understand this we can draw a `scree`-plot to determine which features to retain."
   ]
  },
  {
   "cell_type": "code",
   "execution_count": 21,
   "metadata": {
    "ExecuteTime": {
     "end_time": "2021-05-13T17:26:02.341441Z",
     "start_time": "2021-05-13T17:26:02.318060Z"
    },
    "deletable": false,
    "editable": false,
    "run_control": {
     "frozen": true
    }
   },
   "outputs": [
    {
     "data": {
      "text/html": [
       "<div>\n",
       "<style scoped>\n",
       "    .dataframe tbody tr th:only-of-type {\n",
       "        vertical-align: middle;\n",
       "    }\n",
       "\n",
       "    .dataframe tbody tr th {\n",
       "        vertical-align: top;\n",
       "    }\n",
       "\n",
       "    .dataframe thead th {\n",
       "        text-align: right;\n",
       "    }\n",
       "</style>\n",
       "<table border=\"1\" class=\"dataframe\">\n",
       "  <thead>\n",
       "    <tr style=\"text-align: right;\">\n",
       "      <th></th>\n",
       "      <th>Principal Components</th>\n",
       "      <th>Percentage of Explained Variance</th>\n",
       "      <th>Cumulative Percentage</th>\n",
       "    </tr>\n",
       "  </thead>\n",
       "  <tbody>\n",
       "    <tr>\n",
       "      <th>0</th>\n",
       "      <td>PC-1</td>\n",
       "      <td>84.136</td>\n",
       "      <td>84.136</td>\n",
       "    </tr>\n",
       "    <tr>\n",
       "      <th>1</th>\n",
       "      <td>PC-2</td>\n",
       "      <td>11.752</td>\n",
       "      <td>95.888</td>\n",
       "    </tr>\n",
       "    <tr>\n",
       "      <th>2</th>\n",
       "      <td>PC-3</td>\n",
       "      <td>3.474</td>\n",
       "      <td>99.361</td>\n",
       "    </tr>\n",
       "    <tr>\n",
       "      <th>3</th>\n",
       "      <td>PC-4</td>\n",
       "      <td>0.639</td>\n",
       "      <td>100.000</td>\n",
       "    </tr>\n",
       "  </tbody>\n",
       "</table>\n",
       "</div>"
      ],
      "text/plain": [
       "  Principal Components  Percentage of Explained Variance  \\\n",
       "0                 PC-1                            84.136   \n",
       "1                 PC-2                            11.752   \n",
       "2                 PC-3                             3.474   \n",
       "3                 PC-4                             0.639   \n",
       "\n",
       "   Cumulative Percentage  \n",
       "0                 84.136  \n",
       "1                 95.888  \n",
       "2                 99.361  \n",
       "3                100.000  "
      ]
     },
     "execution_count": 21,
     "metadata": {},
     "output_type": "execute_result"
    }
   ],
   "source": [
    "ComponentVariation = pd.DataFrame({\n",
    "    \"Principal Components\"             : [f\"PC-{i}\" for i in range(1, len(dPCA.explained_variance_) + 1)],\n",
    "    \"Percentage of Explained Variance\" : np.round(dPCA.explained_variance_, decimals = 3),\n",
    "    \"Cumulative Percentage\"            : np.round(dPCA.cum_explained_variance_, decimals = 3)\n",
    "})\n",
    "\n",
    "ComponentVariation"
   ]
  },
  {
   "cell_type": "markdown",
   "metadata": {},
   "source": [
    "Evidently, **`95.8%`** of the variance is explained by the first two components!"
   ]
  },
  {
   "cell_type": "code",
   "execution_count": 26,
   "metadata": {
    "ExecuteTime": {
     "end_time": "2021-05-13T17:27:34.448578Z",
     "start_time": "2021-05-13T17:27:34.320897Z"
    },
    "deletable": false,
    "editable": false,
    "run_control": {
     "frozen": true
    }
   },
   "outputs": [
    {
     "data": {
      "image/png": "[encoded data removed]",
      "text/plain": [
       "<Figure size 1800x504 with 1 Axes>"
      ]
     },
     "metadata": {},
     "output_type": "display_data"
    }
   ],
   "source": [
    "bar_plot = sns.barplot(x = \"Principal Components\", y = \"Percentage of Explained Variance\", data = ComponentVariation)\n",
    "\n",
    "for bar in bar_plot.patches:\n",
    "    # https://www.geeksforgeeks.org/how-to-annotate-bars-in-barplot-with-matplotlib-in-python/\n",
    "    bar_plot.annotate(\n",
    "        format(bar.get_height(), '.2f'),\n",
    "        (bar.get_x() + bar.get_width() / 2, bar.get_height()),\n",
    "        ha = \"center\", va = \"center\", size = 15, xytext = (0, 8),\n",
    "        textcoords = \"offset points\"\n",
    "    )\n",
    "    \n",
    "plt.title(\"Scree Plot\")\n",
    "plt.show()"
   ]
  },
  {
   "cell_type": "code",
   "execution_count": 28,
   "metadata": {
    "ExecuteTime": {
     "end_time": "2021-05-13T17:30:17.226130Z",
     "start_time": "2021-05-13T17:30:17.209141Z"
    },
    "deletable": false,
    "editable": false,
    "run_control": {
     "frozen": true
    }
   },
   "outputs": [
    {
     "name": "stdout",
     "output_type": "stream",
     "text": [
      "No. of Components = 4\n"
     ]
    }
   ],
   "source": [
    "print(f\"No. of Components = {dPCA.n_components}\")"
   ]
  },
  {
   "cell_type": "code",
   "execution_count": 8,
   "metadata": {
    "ExecuteTime": {
     "end_time": "2021-05-13T17:54:30.050963Z",
     "start_time": "2021-05-13T17:54:30.037000Z"
    }
   },
   "outputs": [
    {
     "data": {
      "text/html": [
       "<div>\n",
       "<style scoped>\n",
       "    .dataframe tbody tr th:only-of-type {\n",
       "        vertical-align: middle;\n",
       "    }\n",
       "\n",
       "    .dataframe tbody tr th {\n",
       "        vertical-align: top;\n",
       "    }\n",
       "\n",
       "    .dataframe thead th {\n",
       "        text-align: right;\n",
       "    }\n",
       "</style>\n",
       "<table border=\"1\" class=\"dataframe\">\n",
       "  <thead>\n",
       "    <tr style=\"text-align: right;\">\n",
       "      <th></th>\n",
       "      <th>PCA-1</th>\n",
       "      <th>PCA-2</th>\n",
       "      <th>PCA-3</th>\n",
       "      <th>PCA-4</th>\n",
       "      <th>target</th>\n",
       "    </tr>\n",
       "  </thead>\n",
       "  <tbody>\n",
       "    <tr>\n",
       "      <th>0</th>\n",
       "      <td>0.068898</td>\n",
       "      <td>-0.654521</td>\n",
       "      <td>0.072618</td>\n",
       "      <td>-0.089008</td>\n",
       "      <td>0</td>\n",
       "    </tr>\n",
       "    <tr>\n",
       "      <th>1</th>\n",
       "      <td>0.076696</td>\n",
       "      <td>-0.442683</td>\n",
       "      <td>0.042195</td>\n",
       "      <td>-0.063956</td>\n",
       "      <td>0</td>\n",
       "    </tr>\n",
       "    <tr>\n",
       "      <th>2</th>\n",
       "      <td>0.030081</td>\n",
       "      <td>-0.495526</td>\n",
       "      <td>0.110981</td>\n",
       "      <td>-0.088881</td>\n",
       "      <td>0</td>\n",
       "    </tr>\n",
       "    <tr>\n",
       "      <th>3</th>\n",
       "      <td>0.045449</td>\n",
       "      <td>-0.444058</td>\n",
       "      <td>0.114555</td>\n",
       "      <td>-0.116429</td>\n",
       "      <td>0</td>\n",
       "    </tr>\n",
       "    <tr>\n",
       "      <th>4</th>\n",
       "      <td>0.050813</td>\n",
       "      <td>-0.680430</td>\n",
       "      <td>0.106452</td>\n",
       "      <td>-0.108101</td>\n",
       "      <td>0</td>\n",
       "    </tr>\n",
       "    <tr>\n",
       "      <th>...</th>\n",
       "      <td>...</td>\n",
       "      <td>...</td>\n",
       "      <td>...</td>\n",
       "      <td>...</td>\n",
       "      <td>...</td>\n",
       "    </tr>\n",
       "    <tr>\n",
       "      <th>145</th>\n",
       "      <td>1.251063</td>\n",
       "      <td>-0.606784</td>\n",
       "      <td>0.177620</td>\n",
       "      <td>0.013777</td>\n",
       "      <td>2</td>\n",
       "    </tr>\n",
       "    <tr>\n",
       "      <th>146</th>\n",
       "      <td>1.106748</td>\n",
       "      <td>-0.375122</td>\n",
       "      <td>0.087234</td>\n",
       "      <td>-0.031074</td>\n",
       "      <td>2</td>\n",
       "    </tr>\n",
       "    <tr>\n",
       "      <th>147</th>\n",
       "      <td>1.146744</td>\n",
       "      <td>-0.584503</td>\n",
       "      <td>0.140883</td>\n",
       "      <td>-0.063573</td>\n",
       "      <td>2</td>\n",
       "    </tr>\n",
       "    <tr>\n",
       "      <th>148</th>\n",
       "      <td>1.187809</td>\n",
       "      <td>-0.696620</td>\n",
       "      <td>0.330546</td>\n",
       "      <td>-0.099179</td>\n",
       "      <td>2</td>\n",
       "    </tr>\n",
       "    <tr>\n",
       "      <th>149</th>\n",
       "      <td>1.011668</td>\n",
       "      <td>-0.515812</td>\n",
       "      <td>0.210009</td>\n",
       "      <td>-0.148820</td>\n",
       "      <td>2</td>\n",
       "    </tr>\n",
       "  </tbody>\n",
       "</table>\n",
       "<p>150 rows × 5 columns</p>\n",
       "</div>"
      ],
      "text/plain": [
       "        PCA-1     PCA-2     PCA-3     PCA-4  target\n",
       "0    0.068898 -0.654521  0.072618 -0.089008       0\n",
       "1    0.076696 -0.442683  0.042195 -0.063956       0\n",
       "2    0.030081 -0.495526  0.110981 -0.088881       0\n",
       "3    0.045449 -0.444058  0.114555 -0.116429       0\n",
       "4    0.050813 -0.680430  0.106452 -0.108101       0\n",
       "..        ...       ...       ...       ...     ...\n",
       "145  1.251063 -0.606784  0.177620  0.013777       2\n",
       "146  1.106748 -0.375122  0.087234 -0.031074       2\n",
       "147  1.146744 -0.584503  0.140883 -0.063573       2\n",
       "148  1.187809 -0.696620  0.330546 -0.099179       2\n",
       "149  1.011668 -0.515812  0.210009 -0.148820       2\n",
       "\n",
       "[150 rows x 5 columns]"
      ]
     },
     "execution_count": 8,
     "metadata": {},
     "output_type": "execute_result"
    }
   ],
   "source": [
    "PCAResult = pd.DataFrame(principalComponents, columns = [f\"PCA-{i}\" for i in range(1, dPCA.n_components + 1)])\n",
    "PCAResult[\"target\"] = y # possible as original order does not change\n",
    "\n",
    "PCAResult"
   ]
  },
  {
   "cell_type": "code",
   "execution_count": 9,
   "metadata": {
    "ExecuteTime": {
     "end_time": "2021-05-13T17:54:30.318179Z",
     "start_time": "2021-05-13T17:54:30.052957Z"
    }
   },
   "outputs": [
    {
     "data": {
      "image/png": "[encoded data removed]",
      "text/plain": [
       "<Figure size 1800x792 with 1 Axes>"
      ]
     },
     "metadata": {},
     "output_type": "display_data"
    }
   ],
   "source": [
    "plt.figure(figsize = (25, 11))\n",
    "sns.scatterplot(x = \"PCA-1\", y = \"PCA-2\", data = PCAResult, hue = \"target\", s = 50)\n",
    "\n",
    "plt.show()"
   ]
  },
  {
   "cell_type": "markdown",
   "metadata": {},
   "source": [
    "### Verification with `sklearn`\n",
    "\n",
    "The `sci-kit learn (sklearn)` library comes with the PCA algorithm. Note the object for `decompose.PCA` is defined as **`dPCA`** and in `sklearn.decomposition` it is defined as **`sPCA`**."
   ]
  },
  {
   "cell_type": "code",
   "execution_count": 38,
   "metadata": {
    "ExecuteTime": {
     "end_time": "2021-05-13T17:39:30.762187Z",
     "start_time": "2021-05-13T17:39:29.379614Z"
    },
    "deletable": false,
    "editable": false,
    "run_control": {
     "frozen": true
    }
   },
   "outputs": [],
   "source": [
    "from sklearn.decomposition import PCA"
   ]
  },
  {
   "cell_type": "code",
   "execution_count": 39,
   "metadata": {
    "ExecuteTime": {
     "end_time": "2021-05-13T17:39:43.565445Z",
     "start_time": "2021-05-13T17:39:43.554475Z"
    },
    "deletable": false,
    "editable": false,
    "run_control": {
     "frozen": true
    }
   },
   "outputs": [],
   "source": [
    "sPCA = PCA() # consider all the components"
   ]
  },
  {
   "cell_type": "code",
   "execution_count": 41,
   "metadata": {
    "ExecuteTime": {
     "end_time": "2021-05-13T17:41:45.292188Z",
     "start_time": "2021-05-13T17:41:45.282195Z"
    },
    "deletable": false,
    "editable": false,
    "run_control": {
     "frozen": true
    }
   },
   "outputs": [
    {
     "data": {
      "text/plain": [
       "array([84.136, 11.752,  3.474,  0.639])"
      ]
     },
     "execution_count": 41,
     "metadata": {},
     "output_type": "execute_result"
    }
   ],
   "source": [
    "principalComponents_ = sPCA.fit_transform(X)\n",
    "\n",
    "# explained variance\n",
    "sPCA.explained_variance_ratio_ * 100"
   ]
  },
  {
   "cell_type": "markdown",
   "metadata": {},
   "source": [
    "It is evident from the `explained_variance_ratio_` that both gives the same result. Just for visual confirmation, the PCA of first two components is as below."
   ]
  },
  {
   "cell_type": "code",
   "execution_count": 43,
   "metadata": {
    "ExecuteTime": {
     "end_time": "2021-05-13T17:45:04.116060Z",
     "start_time": "2021-05-13T17:45:03.885463Z"
    },
    "deletable": false,
    "editable": false,
    "run_control": {
     "frozen": true
    }
   },
   "outputs": [
    {
     "data": {
      "image/png": "[encoded data removed]",
      "text/plain": [
       "<Figure size 1800x792 with 1 Axes>"
      ]
     },
     "metadata": {},
     "output_type": "display_data"
    }
   ],
   "source": [
    "PCAResult_ = pd.DataFrame(principalComponents_, columns = [f\"PCA-{i}\" for i in range(1, 5)])\n",
    "PCAResult_[\"target\"] = y # possible as original order does not change\n",
    "\n",
    "plt.figure(figsize = (25, 11))\n",
    "sns.scatterplot(x = \"PCA-1\", y = \"PCA-2\", data = PCAResult_, hue = \"target\", s = 50)\n",
    "\n",
    "plt.show()"
   ]
  },
  {
   "cell_type": "markdown",
   "metadata": {},
   "source": [
    "## Credits\n",
    "\n",
    "1. 3Blue 1Brown's YouTube Channel for an amazing [Visual Representation](https://www.youtube.com/watch?v=PFDu9oVAE-g) on Eigen Values and Eigen Vectors.\n",
    "2. [Properties and Important Results on Eigens](https://www.youtube.com/watch?v=1wjXVdwzgX8) by Dr. Gajendra Purohit. [Note: Video is delivered in Hindi Language]\n",
    "3. [Covariance and Correlation - Part 1](https://www.youtube.com/watch?v=qtaqvPAeEJY) by StatQuest with Josh Starmer.\n",
    "\n",
    "## References\n",
    "\n",
    "[1] Raschka, S. (2015). _Python Machine Learning_. Packt Publishing Ltd."
   ]
  }
 ],
 "metadata": {
  "kernelspec": {
   "display_name": "Python 3",
   "language": "python",
   "name": "python3"
  },
  "language_info": {
   "codemirror_mode": {
    "name": "ipython",
    "version": 3
   },
   "file_extension": ".py",
   "mimetype": "text/x-python",
   "name": "python",
   "nbconvert_exporter": "python",
   "pygments_lexer": "ipython3",
   "version": "3.8.3"
  },
  "latex_envs": {
   "LaTeX_envs_menu_present": true,
   "autoclose": false,
   "autocomplete": true,
   "bibliofile": "biblio.bib",
   "cite_by": "apalike",
   "current_citInitial": 1,
   "eqLabelWithNumbers": true,
   "eqNumInitial": 1,
   "hotkeys": {
    "equation": "Ctrl-E",
    "itemize": "Ctrl-I"
   },
   "labels_anchors": false,
   "latex_user_defs": false,
   "report_style_numbering": false,
   "user_envs_cfg": false
  },
  "toc": {
   "base_numbering": 1,
   "nav_menu": {},
   "number_sections": false,
   "sideBar": true,
   "skip_h1_title": true,
   "title_cell": "Table of Contents",
   "title_sidebar": "Contents",
   "toc_cell": false,
   "toc_position": {
    "height": "calc(100% - 180px)",
    "left": "10px",
    "top": "150px",
    "width": "264px"
   },
   "toc_section_display": true,
   "toc_window_display": false
  },
  "varInspector": {
   "cols": {
    "lenName": 16,
    "lenType": 16,
    "lenVar": 40
   },
   "kernels_config": {
    "python": {
     "delete_cmd_postfix": "",
     "delete_cmd_prefix": "del ",
     "library": "var_list.py",
     "varRefreshCmd": "print(var_dic_list())"
    },
    "r": {
     "delete_cmd_postfix": ") ",
     "delete_cmd_prefix": "rm(",
     "library": "var_list.r",
     "varRefreshCmd": "cat(var_dic_list()) "
    }
   },
   "types_to_exclude": [
    "module",
    "function",
    "builtin_function_or_method",
    "instance",
    "_Feature"
   ],
   "window_display": false
  }
 },
 "nbformat": 4,
 "nbformat_minor": 4
}
